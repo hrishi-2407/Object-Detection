{
 "cells": [
  {
   "cell_type": "code",
   "execution_count": 12,
   "id": "ca1e1e34-1e11-491d-b333-6a11bfeed149",
   "metadata": {},
   "outputs": [],
   "source": [
    "import cv2\n",
    "from matplotlib import pyplot as plt"
   ]
  },
  {
   "cell_type": "code",
   "execution_count": 13,
   "id": "d374eea3-758a-434a-988f-89acde8e880d",
   "metadata": {},
   "outputs": [],
   "source": [
    "config_file = \"ssd_mobilenet_v3_large_coco_2020_01_14.pbtxt\"\n",
    "frozen_graph = \"frozen_inference_graph.pb\""
   ]
  },
  {
   "cell_type": "code",
   "execution_count": 14,
   "id": "ad901eac-bb6f-4efd-bd24-113aa7a5134f",
   "metadata": {},
   "outputs": [],
   "source": [
    "model = cv2.dnn_DetectionModel(frozen_graph, config_file)"
   ]
  },
  {
   "cell_type": "code",
   "execution_count": 15,
   "id": "f24992bf-fe79-4bb3-92b3-bbeadec4a1f3",
   "metadata": {},
   "outputs": [],
   "source": [
    "classLabels = []  \n",
    "filename = 'coco_labels.txt'\n",
    "with open(filename, 'rt') as spt:\n",
    "    classLabels = spt.read().rstrip('\\n').split('\\n')\n",
    "    #classlabels.append(fpt.append)"
   ]
  },
  {
   "cell_type": "code",
   "execution_count": 16,
   "id": "25b45e23-5dd6-4336-af76-14d87b9ee8aa",
   "metadata": {},
   "outputs": [
    {
     "name": "stdout",
     "output_type": "stream",
     "text": [
      "['person', 'bicycle', 'car', 'motorbike', 'aeroplane', 'bus', 'train', 'truck', 'boat', 'traffic light', 'fire hydrant', 'stop sign', 'parking meter', 'bench', 'bird', 'cat', 'dog', 'horse', 'sheep', 'cow', 'elephant', 'bear', 'zebra', 'giraffe', 'backpack', 'umbrella', 'handbag', 'tie', 'suitcase', 'frisbee', 'skis', 'snowboard', 'sports ball', 'kite', 'baseball bat', 'baseball glove', 'skateboard', 'surfboard', 'tennis racket', 'bottle', 'wine glass', 'cup', 'fork', 'knife', 'spoon', 'bowl', 'banana', 'apple', 'sandwich', 'orange', 'broccoli', 'carrot', 'hot dog', 'pizza', 'donut', 'cake', 'chair', 'sofa', 'pottedplant', 'bed', 'diningtable', 'toilet', 'tvmonitor', 'laptop', 'mouse', 'remote', 'keyboard', 'cell phone', 'microwave', 'oven', 'toaster', 'sink', 'refrigerator', 'book', 'clock', 'vase', 'scissors', 'teddy bear', 'hair drier', 'toothbrush']\n"
     ]
    }
   ],
   "source": [
    "print(classLabels)"
   ]
  },
  {
   "cell_type": "code",
   "execution_count": 17,
   "id": "e9e5062b-c74c-493c-8024-f4bcfac681ab",
   "metadata": {},
   "outputs": [
    {
     "name": "stdout",
     "output_type": "stream",
     "text": [
      "80\n"
     ]
    }
   ],
   "source": [
    "print(len(classLabels))"
   ]
  },
  {
   "cell_type": "code",
   "execution_count": 18,
   "id": "fec1f077-340d-437c-aec9-b6faf24cc64e",
   "metadata": {},
   "outputs": [
    {
     "data": {
      "text/plain": [
       "< cv2.dnn.Model 0000020BFF5FB670>"
      ]
     },
     "execution_count": 18,
     "metadata": {},
     "output_type": "execute_result"
    }
   ],
   "source": [
    "model.setInputSize(320, 320) #greater this value better the reults tune it for best output\n",
    "model.setInputScale(1.0/127.5)\n",
    "model.setInputMean((127.5, 127.5, 127.5))\n",
    "model.setInputSwapRB(True) # --> this automatically changes the image from BGR to RGB"
   ]
  },
  {
   "cell_type": "markdown",
   "id": "aeaa825c-a95e-424b-9ae8-100361184ace",
   "metadata": {},
   "source": [
    "### video"
   ]
  },
  {
   "cell_type": "code",
   "execution_count": 19,
   "id": "217e58ea-e159-406b-ab64-a1bdba4f220e",
   "metadata": {},
   "outputs": [
    {
     "name": "stdout",
     "output_type": "stream",
     "text": [
      "Terminating program...\n",
      "Resources released successfully.\n"
     ]
    }
   ],
   "source": [
    "# Initialize the video capture object\n",
    "cap = cv2.VideoCapture('KRL_43sec.mp4')  # Input video file\n",
    "\n",
    "# Check if the video file is opened correctly\n",
    "if not cap.isOpened():\n",
    "    raise IOError(\"Cannot open video\")\n",
    "\n",
    "# Desired display size\n",
    "display_width = 1200  # Adjust the width of the display window\n",
    "display_height = 600  # Adjust the height of the display window\n",
    "\n",
    "font = cv2.FONT_HERSHEY_PLAIN\n",
    "\n",
    "# Threshold for object size (example values, adjust as needed)\n",
    "MIN_CAR_SIZE = 500  # Minimum area for cars/trucks\n",
    "MAX_CAR_SIZE = 20000  # Maximum area for cars/trucks\n",
    "\n",
    "def refine_class(label, box):\n",
    "    \"\"\"Refine class based on bounding box size.\"\"\"\n",
    "    box_area = box[2] * box[3]  # width * height\n",
    "    if label == \"train\":\n",
    "        if MIN_CAR_SIZE <= box_area <= MAX_CAR_SIZE:\n",
    "            return \"vehicle\"\n",
    "    return label\n",
    "    \n",
    "try:\n",
    "    while True:\n",
    "        ret, frame = cap.read()  # Read a frame from the video\n",
    "\n",
    "        # Break the loop if no frame is read (end of video)\n",
    "        if not ret:\n",
    "            print(\"End of video reached or cannot fetch the frame.\")\n",
    "            break\n",
    "\n",
    "        # Detect objects (example detection function)\n",
    "        classIndex, confidence, bbox = model.detect(frame, confThreshold=0.46)  # Tune the confidence as required\n",
    "\n",
    "        # Draw bounding boxes and labels if detections exist\n",
    "        if len(classIndex) != 0:\n",
    "            for classInd, boxes in zip(classIndex.flatten(), bbox):\n",
    "                label = classLabels[classInd - 1]\n",
    "                label = refine_class(label, boxes)  # Refine classification\n",
    "                \n",
    "                cv2.rectangle(frame, boxes, (255, 0, 0), 2)\n",
    "                cv2.putText(frame, label, \n",
    "                            (boxes[0] + 10, boxes[1] + 40), \n",
    "                            font, fontScale=1, color=(0, 255, 0), thickness=2)\n",
    "                \n",
    "        # Resize the frame for display\n",
    "        resized_frame = cv2.resize(frame, (display_width, display_height))\n",
    "\n",
    "        # Display the frame with detections\n",
    "        cv2.imshow('Object Detection Tutorial', resized_frame)\n",
    "\n",
    "        # Check for the 'q' key to break the loop\n",
    "        if cv2.waitKey(1) & 0xFF == ord('q'):\n",
    "            print(\"Terminating program...\")\n",
    "            break\n",
    "\n",
    "finally:\n",
    "    # Release resources\n",
    "    cap.release()\n",
    "    cv2.destroyAllWindows()\n",
    "    print(\"Resources released successfully.\")"
   ]
  },
  {
   "cell_type": "code",
   "execution_count": null,
   "id": "dc35ec23-49c6-4e4a-af78-2bd2080df23f",
   "metadata": {},
   "outputs": [],
   "source": []
  }
 ],
 "metadata": {
  "kernelspec": {
   "display_name": "Python 3 (ipykernel)",
   "language": "python",
   "name": "python3"
  },
  "language_info": {
   "codemirror_mode": {
    "name": "ipython",
    "version": 3
   },
   "file_extension": ".py",
   "mimetype": "text/x-python",
   "name": "python",
   "nbconvert_exporter": "python",
   "pygments_lexer": "ipython3",
   "version": "3.11.9"
  }
 },
 "nbformat": 4,
 "nbformat_minor": 5
}
